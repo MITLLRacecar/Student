{
 "cells": [
  {
   "cell_type": "markdown",
   "metadata": {},
   "source": [
    "# Bonus Lab: Kalman Filtering\n",
    "\n",
    "Parameter estimation for robotics can be challenging due to noisy sensor data and inexact motion models. Kalman filtering is a technique that uses properties of the **Gaussian distribution** to minimize error in the state of an agent. The Kalman filter uses a motion model to predict the future state of the agent, and corrects these predictions based on sensor measurements with **Bayes Theorem**.\n",
    "\n",
    "In this notebook, we will learn how to use kalman filtering to more effectively estimate the state of the RACECAR. Here, you will estimate the distance of an orange cone, as you did in Lab 3b.\n",
    "\n",
    "Throughout this notebook, **<font style=\"color:red\">text in bold red</font>** indicates a change you must make to the following code block before running it.\n",
    "\n",
    "\n",
    "## Table of Contents\n",
    "1. [Getting Started](#GettingStarted)\n",
    "2. [Depth and Color Images](#DepthAndColorImages)\n",
    "3. [Uncertainty](#Uncertainty)\n",
    "4. [Prediction](#Prediction)\n",
    "5. [Implementation](#Implementation)"
   ]
  },
  {
   "cell_type": "markdown",
   "metadata": {},
   "source": [
    "<a id=\"GettingStarted\"></a>\n",
    "## 1. Getting Started\n",
    "\n",
    "**<font style=\"color:red\">If you are running the car in RacecarSim, set `isSimulation` to `True`</font>**. Leave `isSimulation` `False` if you are using a physical car."
   ]
  },
  {
   "cell_type": "code",
   "execution_count": 1,
   "metadata": {},
   "outputs": [],
   "source": [
    "# TODO: Update isSimulation if necessary\n",
    "isSimulation = True"
   ]
  },
  {
   "cell_type": "markdown",
   "metadata": {},
   "source": [
    "Next, we will import the necessary libraries for this notebook, including Python libraries (`cv`, `numpy`, etc.) and the Racecar library (`racecar_core`)."
   ]
  },
  {
   "cell_type": "code",
   "execution_count": 2,
   "metadata": {},
   "outputs": [],
   "source": [
    "# Import Python libraries\n",
    "import cv2 as cv\n",
    "import numpy as np\n",
    "import matplotlib.pyplot as plt\n",
    "import ipywidgets as widgets\n",
    "import statistics\n",
    "from nptyping import NDArray\n",
    "from typing import Any, Tuple, List, Optional\n",
    "\n",
    "# Import Racecar library\n",
    "import sys\n",
    "sys.path.append(\"../../library\")\n",
    "import racecar_core\n",
    "import racecar_utils as rc_utils"
   ]
  },
  {
   "cell_type": "markdown",
   "metadata": {},
   "source": [
    "The following functions will help us throughout this notebook."
   ]
  },
  {
   "cell_type": "code",
   "execution_count": 3,
   "metadata": {},
   "outputs": [],
   "source": [
    "def show_depth_image(\n",
    "    depth_image: NDArray[(Any, Any), np.float32],\n",
    "    max_depth: int = 400,\n",
    "    points: List[Tuple[int, int]] = []\n",
    ") -> None:\n",
    "    \"\"\"\n",
    "    Displays a color image in the Jupyter Notebook.\n",
    "    \n",
    "    Args:\n",
    "        depth_image: The image to display.\n",
    "        max_depth: The farthest depth to show in the image in cm. Anything past this depth is shown as black.\n",
    "        points: A list of points in (pixel row, pixel column) format to show on the image colored dots.\n",
    "    \"\"\"\n",
    "    # Clip anything above max_depth\n",
    "    np.clip(depth_image, None, max_depth, depth_image)\n",
    "\n",
    "    # Shift down slightly so that 0 (no data) becomes the \"farthest\" color\n",
    "    depth_image = (depth_image - 1) % max_depth\n",
    "\n",
    "    # Convert depth values to colors\n",
    "    color_image = cv.applyColorMap(-cv.convertScaleAbs(depth_image, alpha=255/max_depth), cv.COLORMAP_INFERNO)\n",
    "    \n",
    "    # Draw a dot at each point in points\n",
    "    for point in points:\n",
    "        cv.circle(color_image, (point[1], point[0]), 6, (0, 255, 0), -1)\n",
    "\n",
    "    # Show the image with Matplotlib\n",
    "    plt.imshow(cv.cvtColor(color_image, cv.COLOR_BGR2RGB))\n",
    "    plt.show()\n",
    "\n",
    "\n",
    "def add_noise(\n",
    "    depth_image: NDArray[(Any, Any), np.float32],\n",
    "    error_percent = 0.1,\n",
    "    null_percent: float = 0.005\n",
    ") -> NDArray[(Any, Any), np.float32]:\n",
    "    \"\"\"\n",
    "    Adds noise to a depth image.\n",
    "    \n",
    "    Args:\n",
    "        depth_image: The original image to which to add noise.\n",
    "        error_percent: The error percentage to introduce to each measurement.\n",
    "        null_percent: The percentage of pixels to set to zero.\n",
    "    \n",
    "    Returns:\n",
    "        A copy of the provided depth_image with noise added.\n",
    "    \"\"\"\n",
    "    # Copy the original image\n",
    "    image = np.copy(depth_image) \n",
    "    \n",
    "    # Apply error_percent to each measurement (gaussian error)\n",
    "    gauss = np.random.normal(1, error_percent, image.shape)\n",
    "    image *= gauss\n",
    "    \n",
    "    # Add null (zero) values\n",
    "    num_nulls = int(image.size * null_percent)\n",
    "    coords = [np.random.randint(0, i - 1, num_nulls) for i in image.shape]\n",
    "    image[tuple(coords)] = 0.0\n",
    "    \n",
    "    return image\n",
    "\n",
    "\n",
    "def crop(\n",
    "    image: NDArray[(Any, ...), Any],\n",
    "    top_left_inclusive: Tuple[float, float],\n",
    "    bottom_right_exclusive: Tuple[float, float]\n",
    ") -> NDArray[(Any, ...), Any]:\n",
    "    \"\"\"\n",
    "    Crops an image to a rectangle based on the specified pixel points.\n",
    "\n",
    "    Args:\n",
    "        image: The color or depth image to crop.\n",
    "        top_left_inclusive: The (row, column) of the top left pixel of the crop rectangle.\n",
    "        bottom_right_exclusive: The (row, column) of the pixel one past the bottom right corner of the crop rectangle.\n",
    "\n",
    "    Returns:\n",
    "        A cropped version of the image.\n",
    "\n",
    "    Note:\n",
    "        The top_left_inclusive pixel is included in the crop rectangle, but the\n",
    "        bottom_right_exclusive pixel is not.\n",
    "        \n",
    "        If bottom_right_exclusive exceeds the bottom or right edge of the image, the\n",
    "        full image is included along that axis.\n",
    "    \"\"\"\n",
    "    # Extract the minimum and maximum pixel rows and columns from the parameters\n",
    "    r_min, c_min = top_left_inclusive\n",
    "    r_max, c_max = bottom_right_exclusive\n",
    "\n",
    "    # Shorten the array to the specified row and column ranges\n",
    "    return image[r_min:r_max, c_min:c_max]"
   ]
  },
  {
   "cell_type": "markdown",
   "metadata": {},
   "source": [
    "Finally, we will create a racecar object.  If this step fails, make sure that `isSimulation` has the correct value."
   ]
  },
  {
   "cell_type": "code",
   "execution_count": 4,
   "metadata": {},
   "outputs": [
    {
     "name": "stdout",
     "output_type": "stream",
     "text": [
      "\u001b[95m>> Racecar created with the following options:\n",
      "    Simulation (-s): [True]\n",
      "    Headless (-h): [False]\n",
      "    Initialize with display (-d): [False]\u001b[00m\n"
     ]
    }
   ],
   "source": [
    "# Create Racecar\n",
    "rc = racecar_core.create_racecar(isSimulation)"
   ]
  },
  {
   "cell_type": "markdown",
   "metadata": {},
   "source": [
    "<a id=\"DepthAndColorImages\"></a>\n",
    "## 2. Depth and Color Images\n",
    "The following code has been provided for idenitfying an orange contour and calculating its distance."
   ]
  },
  {
   "cell_type": "code",
   "execution_count": 5,
   "metadata": {
    "scrolled": true
   },
   "outputs": [],
   "source": [
    "# The HSV range for the color orange\n",
    "ORANGE = ((90, 50, 50), (120, 255, 255))\n",
    "\n",
    "# Calculate the center of the contour\n",
    "def find_contour_center():\n",
    "    contour_center = None\n",
    "    \n",
    "    image = rc.camera.get_color_image_async()\n",
    "    \n",
    "    # Find all of the orange contours\n",
    "    contours = rc_utils.find_contours(image, ORANGE[0], ORANGE[1])\n",
    "\n",
    "    # Select the largest contour\n",
    "    contour = rc_utils.get_largest_contour(contours, 30)\n",
    "    \n",
    "    if contour is not None:\n",
    "        # Calculate contour information\n",
    "        contour_center = rc_utils.get_contour_center(contour)\n",
    "        return (contour_center[1],contour_center[0])"
   ]
  },
  {
   "cell_type": "markdown",
   "metadata": {},
   "source": [
    "<a id=\"Uncertainty\"></a>\n",
    "## 3. Uncertainty\n",
    "\n",
    "While it is easy to estimate state based on raw sensor, these measurements are inherently noisy. Oftentimes, this noise follows a Gaussian, or normal distribution. The Kalman filter uses properties of this distribution to optimally estimate the state of an agent.\n",
    "\n",
    "Probability distributions have an associated variance, or spread of the values (you may remember this as the square of the standard deviation). The more noisy sensor data, the greater its variance. The Kalman filter uses known information about the variance, or uncertainty, of sensor measurements to make accurate estimates.\n",
    "\n",
    "The variance of a sample of data can be computed using:\n",
    "$\\sigma^2 = \\frac{\\sum (x_i -\\overline{x})^2}{n-1}$\n",
    "\n",
    "Here, you will calculate the variance of a sample of depth measurements on an orange cone:\n",
    "\n",
    "**<span style=\"color:red\">Finish writing `get_sample_variance` in the following code block.</span>**\n",
    "\n",
    "Note: you might have seen the that sample variance has $n-1$ in the denominator, as opposed to $n$. This has to do with the fact that the values in a sample will inherently be closer to the sample mean than the actual mean. Read up on **sampling** if you're further curious on why this value takes on $n-1$ specifically."
   ]
  },
  {
   "cell_type": "code",
   "execution_count": 7,
   "metadata": {},
   "outputs": [
    {
     "name": "stdout",
     "output_type": "stream",
     "text": [
      "104.035675\n",
      "105.42071\n",
      "106.33837\n",
      "105.067\n",
      "105.92013\n",
      "103.50241\n",
      "105.27675\n",
      "103.56479\n",
      "110.32463\n",
      "103.72267\n",
      "110.124626\n",
      "104.4324\n",
      "105.0116\n",
      "101.140976\n",
      "103.96829\n",
      "103.28456\n",
      "106.45598\n",
      "100.99677\n",
      "104.54126\n",
      "103.37908\n",
      "107.57448\n",
      "104.58403\n",
      "104.43553\n",
      "101.70653\n",
      "109.26831\n",
      "103.62463\n",
      "104.971886\n",
      "107.06133\n",
      "102.84172\n",
      "105.26291\n",
      "sample variance:  3\n"
     ]
    }
   ],
   "source": [
    "depth_data = []\n",
    "\n",
    "#collect data\n",
    "for i in range(30):\n",
    "    \n",
    "    #find contour\n",
    "    contour_center = find_contour_center()\n",
    "    \n",
    "    if contour_center is not None:\n",
    "        #compute distance\n",
    "        depth_image = rc.camera.get_depth_image_async()\n",
    "        z = rc_utils.get_pixel_average_distance(depth_image, contour_center)\n",
    "        print(z)\n",
    "        depth_data.append(z)\n",
    "    \n",
    "def get_sample_variance(data):\n",
    "    \n",
    "    #TODO: calculate the sample variance on the depth data\n",
    "    \n",
    "sample_variance = get_sample_variance(depth_data)\n",
    "print(\"sample variance: \", sample_variance)"
   ]
  },
  {
   "cell_type": "markdown",
   "metadata": {},
   "source": [
    "You will notice that the depth measurements vary even thought the actual distance does not change"
   ]
  },
  {
   "cell_type": "code",
   "execution_count": 8,
   "metadata": {},
   "outputs": [
    {
     "data": {
      "image/png": "[encoded data removed]",
      "text/plain": [
       "<Figure size 432x288 with 1 Axes>"
      ]
     },
     "metadata": {
      "needs_background": "light"
     },
     "output_type": "display_data"
    }
   ],
   "source": [
    "plt.plot(depth_data)\n",
    "plt.show()"
   ]
  },
  {
   "cell_type": "markdown",
   "metadata": {},
   "source": [
    "<a id=\"Prediction\"></a>\n",
    "## 4. Prediction\n",
    "\n",
    "The Kalman filter makes **predictions** of the RACECAR's state each timestep based on sensor measurements and their **uncertainty**. \n",
    "\n",
    "There is uncertainty in this prediction ($\\sigma_{\\hat{x}}$), as well as the sensor measurements ($\\sigma_{\\hat{z}}$). However, while the sensor measurements maintain a consistent uncertainty inherent to the sensor, the uncertainty of the prediction will decrease as more and more measurements are made.\n",
    "\n",
    "Here, you will use Kalman filtering to estimate the distance of the orange cone while stationary ($x$). You will need to implement the following formulas:\n",
    "\n",
    "**Kalman gain**: $K=\\frac{\\hat{\\sigma}_{\\hat{x}}^2}{\\hat{\\sigma}_{\\hat{x}}^2+\\sigma_z^2}$\n",
    "\n",
    "The Kalman gain capture the relative accuracy of the estimate, and is calculated by dividing the estimate uncertainty ($\\hat{\\sigma}_{\\hat{x}}^2$) by itself added to the measurement uncertainty ($\\hat{\\sigma}_{\\hat{x}}^2+\\sigma_z^2$). This value will always be less than 1, so every timestep, as the RACECAR gains more and more data, the Kalman gain should go down. \n",
    "\n",
    "**Distance estimate**: $x=\\hat{x}+K*(z-\\hat{x})$\n",
    "\n",
    "This is how far the RACECAR thinks the cone is. It adjusts the prediction $\\hat{x}$ based on the sensor measurement ($z$).\n",
    "\n",
    "Updated **estimate uncertainty**: $ \\sigma_{\\hat{x}}^2 = (1-K) * \\sigma_{\\hat{x}}^2 $\n",
    "\n",
    "This is how uncertain the RACECAR is about its estimate. Every timestep, uncertainty should decrease ($0 \\leq K \\leq 1$).\n",
    "\n",
    "**<span style=\"color:red\">Estimate the distance of an orange cone while the robot is stationary by computing the Kalman gain, distance estimate, and estimate uncertainty</span>**\n",
    "\n",
    "NOTE: because the RACECAR is stationary, your prediction ($\\hat{x}$) will be the same as your previous estimate ($x$).\n",
    "\n",
    "Hint: You calculated uncertainty in the sensor measurement during the previous section"
   ]
  },
  {
   "cell_type": "code",
   "execution_count": 10,
   "metadata": {},
   "outputs": [
    {
     "name": "stdout",
     "output_type": "stream",
     "text": [
      "105.05846\n",
      "102.84233\n",
      "108.74164\n",
      "105.1827\n",
      "105.37468\n",
      "105.865036\n",
      "105.91574\n",
      "108.13771\n",
      "104.39417\n",
      "100.8343\n",
      "106.121254\n",
      "109.21776\n",
      "104.27721\n",
      "108.25184\n",
      "103.85033\n",
      "108.18071\n",
      "104.00426\n",
      "101.685486\n",
      "100.67201\n",
      "103.40814\n",
      "107.57622\n",
      "104.60262\n",
      "103.373795\n",
      "105.02775\n",
      "100.17612\n",
      "107.28107\n",
      "106.34128\n",
      "105.4633\n",
      "104.74989\n",
      "103.12167\n"
     ]
    }
   ],
   "source": [
    "# Initial prediction\n",
    "predicted_distance = 100\n",
    "# Initial uncertainty\n",
    "estimate_variance = 400\n",
    "\n",
    "depth_data = []\n",
    "estimates = []\n",
    "\n",
    "for i in range(30):\n",
    "    \n",
    "    #find contour\n",
    "    contour_center = find_contour_center()\n",
    "    \n",
    "    if contour_center is not None:\n",
    "        #compute distance\n",
    "        depth_image = rc.camera.get_depth_image_async()\n",
    "        z = rc_utils.get_pixel_average_distance(depth_image, contour_center)\n",
    "        print(z)\n",
    "        depth_data.append(z)\n",
    "    \n",
    "    \n",
    "    #TODO: compute the Kalman gain\n",
    "    K = \n",
    "    \n",
    "    #TODO: estimate the distance from the cone\n",
    "    estimate = \n",
    "    \n",
    "    estimates.append(estimate)\n",
    "    \n",
    "    #Estimate uncertainty\n",
    "    estimate_uncertainty = "
   ]
  },
  {
   "cell_type": "markdown",
   "metadata": {},
   "source": [
    "Your program should stabilize the distance predictions over time!"
   ]
  },
  {
   "cell_type": "code",
   "execution_count": 12,
   "metadata": {},
   "outputs": [
    {
     "data": {
      "image/png": "[encoded data removed]",
      "text/plain": [
       "<Figure size 432x288 with 1 Axes>"
      ]
     },
     "metadata": {
      "needs_background": "light"
     },
     "output_type": "display_data"
    }
   ],
   "source": [
    "signal = plt.plot(estimates)\n",
    "signal = plt.plot(depth_data)"
   ]
  },
  {
   "cell_type": "markdown",
   "metadata": {},
   "source": [
    "<a id=\"Implementation\"></a>\n",
    "## 5. Implementation\n",
    "\n",
    "Congrats, You've completed this Jupyter Notebook!\n",
    "\n",
    "This section will outline how to transform the Kalman filter you designed to work while the RACECAR is in motion. Unfortunately, Jupyter Notebook doesn't have a way to measure $\\Delta$time, so **the provided starter code is only an example of what you might write in your IDE/text editor. The code will not work in Jupyter Notebook**. Try implementing this in one of your previous programs, or test it out as is.\n",
    "\n",
    "Most of the time when you want to estimate the state of the RACECAR it will be in motion. This means the Kalman filter prediction will need to incorporate **velocity** and **acceleration** which both have their own measurement uncertainties.\n",
    "\n",
    "You can calculate calculate these values using sampling in the same way you did for distance. Here they are provided for you to save time/effort."
   ]
  },
  {
   "cell_type": "code",
   "execution_count": null,
   "metadata": {},
   "outputs": [],
   "source": [
    "acceleration_variance = 112\n",
    "velocity_variance = 112"
   ]
  },
  {
   "cell_type": "markdown",
   "metadata": {},
   "source": [
    "Now, you will incorporate implement Kalman filter while the RACECAR is accelerating. Here, you will have to incorporate a **motion model** to predict the new state of the RACECAR each timestep. All requisite equations are provided: \n",
    "\n",
    "\n",
    "**predicted state**: $\\hat{x}=x + \\Delta t v + \\frac{1}{2}\\Delta t^2 a$\n",
    "\n",
    "This equation is **new**. Unlike in the previous example, the RACECAR is accelerating, so you will need to predict a new location for the RACECAR each timestep based on its velocity and acceleration.\n",
    "\n",
    "**estimate uncertainty**: $\\hat{\\sigma}_{\\hat{x}}^2=\\sigma_x^2+\\Delta t \\sigma_v^2 + \\frac{1}{2}\\Delta t^2 \\sigma_a^2$\n",
    "\n",
    "**kalman gain**: $K=\\frac{\\hat{\\sigma}_{\\hat{x}}^2}{\\hat{\\sigma}_{\\hat{x}}^2+\\sigma_z^2}$ \n",
    "\n",
    "**estimate**: $x=\\hat{x}+K(z-\\hat{x})$\n",
    "\n",
    "\n",
    "**<span style=\"color:red\">Estimate the distance of an orange cone while the robot is accelerating</span>**\n",
    "\n",
    "**<span style=\"color:red\">Use controls in the sim to accelerate and decelerate while keeping the cone in view</span>**\n",
    "\n",
    "Hint: compute velocity and acceleration using rc.get_delta_time()"
   ]
  },
  {
   "cell_type": "code",
   "execution_count": 13,
   "metadata": {},
   "outputs": [],
   "source": [
    "# Initial prediction\n",
    "predicted_distance = 100\n",
    "# Initial uncertainty\n",
    "estimate_variance = 400\n",
    "\n",
    "depth_data = []\n",
    "estimates = []\n",
    "\n",
    "for i in range(20):\n",
    "    #find contour\n",
    "    contour_center = find_contour_center()\n",
    "    \n",
    "    if contour_center is not None:\n",
    "        #compute distance\n",
    "        depth_image = rc.camera.get_depth_image_async()\n",
    "        z = rc_utils.get_pixel_average_distance(depth_image, contour_center)\n",
    "    \n",
    "    depth_data.append(z)\n",
    "    \n",
    "    #TODO: predict the distance of the cone based on previous estimate\n",
    "    v = \n",
    "    a = \n",
    "    x = \n",
    "    \n",
    "    #TODO: estimate the distance from the cone\n",
    "    estimate = \n",
    "    \n",
    "    estimates.append(estimate)\n",
    "    \n",
    "    #TODO: estimate uncertainty\n",
    "    estimate_uncertainty = \n",
    "    \n",
    "    #TODO: compute a new Kalman gain\n",
    "    K = "
   ]
  }
 ],
 "metadata": {
  "kernelspec": {
   "display_name": "Python 3",
   "language": "python",
   "name": "python3"
  },
  "language_info": {
   "codemirror_mode": {
    "name": "ipython",
    "version": 3
   },
   "file_extension": ".py",
   "mimetype": "text/x-python",
   "name": "python",
   "nbconvert_exporter": "python",
   "pygments_lexer": "ipython3",
   "version": "3.7.6"
  }
 },
 "nbformat": 4,
 "nbformat_minor": 4
}
